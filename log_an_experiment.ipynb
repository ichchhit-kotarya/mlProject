{
  "cells": [
    {
      "cell_type": "markdown",
      "metadata": {},
      "source": [
        "# Install MLFlow & the DagsHub python client"
      ]
    },
    {
      "cell_type": "code",
      "execution_count": 5,
      "metadata": {
        "id": "2JvR9_vR4VyK"
      },
      "outputs": [
        {
          "name": "stdout",
          "output_type": "stream",
          "text": [
            "Note: you may need to restart the kernel to use updated packages.\n"
          ]
        },
        {
          "name": "stderr",
          "output_type": "stream",
          "text": [
            "\n",
            "[notice] A new release of pip is available: 24.3.1 -> 25.1\n",
            "[notice] To update, run: python.exe -m pip install --upgrade pip\n"
          ]
        }
      ],
      "source": [
        "%pip install -q dagshub mlflow\n"
      ]
    },
    {
      "cell_type": "markdown",
      "metadata": {},
      "source": [
        "# Use the DagsHub client to setup connection information for MLflow"
      ]
    },
    {
      "cell_type": "code",
      "execution_count": 6,
      "metadata": {
        "id": "ohogp0JhnEXW"
      },
      "outputs": [
        {
          "data": {
            "text/html": [
              "<pre style=\"white-space:pre;overflow-x:auto;line-height:normal;font-family:Menlo,'DejaVu Sans Mono',consolas,'Courier New',monospace\">Initialized MLflow to track repo <span style=\"color: #008000; text-decoration-color: #008000\">\"ichchhit-kotarya/mlProject\"</span>\n",
              "</pre>\n"
            ],
            "text/plain": [
              "Initialized MLflow to track repo \u001b[32m\"ichchhit-kotarya/mlProject\"\u001b[0m\n"
            ]
          },
          "metadata": {},
          "output_type": "display_data"
        },
        {
          "data": {
            "text/html": [
              "<pre style=\"white-space:pre;overflow-x:auto;line-height:normal;font-family:Menlo,'DejaVu Sans Mono',consolas,'Courier New',monospace\">Repository ichchhit-kotarya/mlProject initialized!\n",
              "</pre>\n"
            ],
            "text/plain": [
              "Repository ichchhit-kotarya/mlProject initialized!\n"
            ]
          },
          "metadata": {},
          "output_type": "display_data"
        }
      ],
      "source": [
        "import dagshub\n",
        "dagshub.init(repo_owner='ichchhit-kotarya', repo_name='mlProject', mlflow=True)"
      ]
    },
    {
      "cell_type": "markdown",
      "metadata": {},
      "source": [
        "# Use MLflow to log params and metrics"
      ]
    },
    {
      "cell_type": "code",
      "execution_count": 8,
      "metadata": {
        "id": "doge2CeXnRX5"
      },
      "outputs": [
        {
          "name": "stdout",
          "output_type": "stream",
          "text": [
            "🏃 View run intelligent-worm-702 at: https://dagshub.com/ichchhit-kotarya/mlProject.mlflow/#/experiments/0/runs/be8eeba5d6334fb5a824272dd5ade3ea\n",
            "🧪 View experiment at: https://dagshub.com/ichchhit-kotarya/mlProject.mlflow/#/experiments/0\n"
          ]
        }
      ],
      "source": [
        "import mlflow\n",
        "with mlflow.start_run():\n",
        "  # Your training code here...\n",
        "  mlflow.log_metric('accuracy', 42)\n",
        "  mlflow.log_param('Param name', 'Value')"
      ]
    },
    {
      "cell_type": "markdown",
      "metadata": {},
      "source": [
        "Or turn on autologging for most popular ML frameworks,\n",
        "then run your training code without any modification!\n",
        "\n",
        "For more info and list of supported frameworks, see:\n",
        "[https://mlflow.org/docs/latest/tracking.html#automatic-logging](https://mlflow.org/docs/latest/tracking.html#automatic-logging)"
      ]
    },
    {
      "cell_type": "code",
      "execution_count": 10,
      "metadata": {
        "id": "nJ0s-KdapD8t"
      },
      "outputs": [],
      "source": [
        "mlflow.autolog()\n"
      ]
    }
  ],
  "metadata": {
    "colab": {
      "provenance": []
    },
    "kernelspec": {
      "display_name": "venv",
      "language": "python",
      "name": "python3"
    },
    "language_info": {
      "codemirror_mode": {
        "name": "ipython",
        "version": 3
      },
      "file_extension": ".py",
      "mimetype": "text/x-python",
      "name": "python",
      "nbconvert_exporter": "python",
      "pygments_lexer": "ipython3",
      "version": "3.13.1"
    }
  },
  "nbformat": 4,
  "nbformat_minor": 0
}
